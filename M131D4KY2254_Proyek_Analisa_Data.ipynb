{
  "cells": [
    {
      "cell_type": "markdown",
      "metadata": {
        "id": "H9wADwK78DCz"
      },
      "source": [
        "# Proyek Analisis Data: Air Quality\n",
        "- **Nama:** Chamzal Noer Haiky\n",
        "- **Email:** m131d4ky2254@bangkit.academy\n",
        "- **ID Dicoding:** M131D4KY2254"
      ]
    },
    {
      "cell_type": "markdown",
      "metadata": {
        "id": "eE0raob58DC0"
      },
      "source": [
        "## Menentukan Pertanyaan Bisnis"
      ]
    },
    {
      "cell_type": "markdown",
      "metadata": {
        "id": "GmQeQ5YF8DC0"
      },
      "source": [
        "- Bagaimana kualitas udara antara kota Chanping dan Kota Dongsi berdasarkan PM2.5 per bulan pada tahun 2013-2017\n",
        "- Bagaimana hubungan polusi PM2.5 dengan PM10 di Kota Dongsi pada tahun 2013-2017"
      ]
    },
    {
      "cell_type": "markdown",
      "metadata": {
        "id": "H-z4QGlO8DC1"
      },
      "source": [
        "## Import Semua Packages/Library yang Digunakan"
      ]
    },
    {
      "cell_type": "code",
      "execution_count": 53,
      "metadata": {
        "id": "FVYwaObI8DC1"
      },
      "outputs": [],
      "source": [
        "import numpy as np\n",
        "import pandas as pd\n",
        "import matplotlib.pyplot as plt\n",
        "import seaborn as sn"
      ]
    },
    {
      "cell_type": "markdown",
      "metadata": {
        "id": "h_Sh51Xy8DC1"
      },
      "source": [
        "## Data Wrangling"
      ]
    },
    {
      "cell_type": "markdown",
      "metadata": {
        "id": "sXU2GBYu8DC1"
      },
      "source": [
        "### Gathering Data"
      ]
    },
    {
      "cell_type": "markdown",
      "metadata": {
        "id": "VLqsSILDU9xw"
      },
      "source": [
        "### Gathering Data"
      ]
    },
    {
      "cell_type": "markdown",
      "metadata": {
        "id": "uqUjsrrMXPlG"
      },
      "source": [
        "Pada Gathering data ini kita hanya menggunakan dataset dari kota Chanping dan Dongsi"
      ]
    },
    {
      "cell_type": "code",
      "execution_count": null,
      "metadata": {
        "id": "zjCBk1BI8DC1"
      },
      "outputs": [],
      "source": [
        "chanping_df = pd.read_csv(\"https://drive.google.com/uc?id=1n9NqvkKY0Y9eMChWBdVKhH5gIMe_mT6t\")\n",
        "dongsi_df = pd.read_csv(\"https://drive.google.com/uc?id=1LT4j1PcDLT-OVP-3jsn9p6eZPsGZCaE_\")\n",
        "chanping_df.head()"
      ]
    },
    {
      "cell_type": "code",
      "execution_count": null,
      "metadata": {
        "id": "PteL9psUVdo4"
      },
      "outputs": [],
      "source": [
        "dongsi_df.head()"
      ]
    },
    {
      "cell_type": "markdown",
      "metadata": {
        "id": "FHSiqaZp8DC1"
      },
      "source": [
        "### Assessing Data"
      ]
    },
    {
      "cell_type": "markdown",
      "metadata": {
        "id": "TpM4cskjXgov"
      },
      "source": [
        "**Menilai tabel `chanping_df`**"
      ]
    },
    {
      "cell_type": "code",
      "source": [
        "chanping_df.info()\n"
      ],
      "metadata": {
        "id": "ax-3tEjc9Cj1"
      },
      "execution_count": null,
      "outputs": []
    },
    {
      "cell_type": "code",
      "source": [
        "chanping_df.isna().sum()\n"
      ],
      "metadata": {
        "id": "nfIP7eI-X0NW"
      },
      "execution_count": null,
      "outputs": []
    },
    {
      "cell_type": "code",
      "source": [
        "chanping_df.describe()\n"
      ],
      "metadata": {
        "id": "oDIpOkLVZHqu"
      },
      "execution_count": null,
      "outputs": []
    },
    {
      "cell_type": "markdown",
      "metadata": {
        "id": "a8CbsQNAXmvv"
      },
      "source": [
        "**Menilai tabel `dongsi_df`**"
      ]
    },
    {
      "cell_type": "code",
      "source": [
        "\n",
        "dongsi_df.info()\n"
      ],
      "metadata": {
        "id": "7TUgdHmuXH9o"
      },
      "execution_count": null,
      "outputs": []
    },
    {
      "cell_type": "code",
      "source": [
        "dongsi_df.isna().sum()\n"
      ],
      "metadata": {
        "id": "8TT_uSIcYRLv"
      },
      "execution_count": null,
      "outputs": []
    },
    {
      "cell_type": "code",
      "source": [
        "dongsi_df.describe()\n"
      ],
      "metadata": {
        "id": "zIB0aCW9ZSmO"
      },
      "execution_count": null,
      "outputs": []
    },
    {
      "cell_type": "markdown",
      "metadata": {
        "id": "EhN5R4hr8DC1"
      },
      "source": [
        "### Cleaning Data"
      ]
    },
    {
      "cell_type": "markdown",
      "metadata": {
        "id": "lJE6V0yGvi7V"
      },
      "source": [
        "**Mengganti nama kolom PM2.5 di `chanping_df` dan `donsi_df`**\n",
        "- mengganti nama kolom supaya mempermudah pemanggilan kolomnya"
      ]
    },
    {
      "cell_type": "code",
      "source": [
        "chanping_df.columns = chanping_df.columns.str.replace('PM2.5', 'PM25')\n",
        "dongsi_df.columns = dongsi_df.columns.str.replace('PM2.5', 'PM25')"
      ],
      "metadata": {
        "colab": {
          "base_uri": "https://localhost:8080/"
        },
        "id": "2tHT2KEAv4ql",
        "outputId": "fccfbd8d-61ad-496c-c493-2eaeb91e5321"
      },
      "execution_count": 134,
      "outputs": [
        {
          "output_type": "stream",
          "name": "stderr",
          "text": [
            "<ipython-input-134-a67b1152aa72>:1: FutureWarning: The default value of regex will change from True to False in a future version.\n",
            "  chanping_df.columns = chanping_df.columns.str.replace('PM2.5', 'PM25')\n",
            "<ipython-input-134-a67b1152aa72>:2: FutureWarning: The default value of regex will change from True to False in a future version.\n",
            "  dongsi_df.columns = dongsi_df.columns.str.replace('PM2.5', 'PM25')\n"
          ]
        }
      ]
    },
    {
      "cell_type": "markdown",
      "metadata": {
        "id": "J5MXNE0JZbDW"
      },
      "source": [
        "**Membersihkan tabel `chanping_df`**"
      ]
    },
    {
      "cell_type": "markdown",
      "metadata": {
        "id": "4-5a3GK4rve2"
      },
      "source": [
        "Duplicate Data"
      ]
    },
    {
      "cell_type": "code",
      "source": [
        "print(\"Jumlah duplikasi: \", chanping_df.duplicated().sum())"
      ],
      "metadata": {
        "id": "XkDPstdCcy-c"
      },
      "execution_count": null,
      "outputs": []
    },
    {
      "cell_type": "markdown",
      "metadata": {
        "id": "LVdZO12dsMa2"
      },
      "source": [
        "Missing Value\n",
        "- Kita hanya mengedit value dari PM2.5 dan PM10 karena sesuai yang dibutuhkan pertanyaan bisnisnya"
      ]
    },
    {
      "cell_type": "code",
      "source": [
        "chanping_df.isna().sum()\n"
      ],
      "metadata": {
        "id": "d-Fnm75Zsi4-"
      },
      "execution_count": null,
      "outputs": []
    },
    {
      "cell_type": "code",
      "source": [
        "chanping_df[chanping_df.PM25.isna()]\n"
      ],
      "metadata": {
        "id": "EncLc_o-s25G"
      },
      "execution_count": null,
      "outputs": []
    },
    {
      "cell_type": "markdown",
      "source": [
        "- Kita mengganti PM2.5 dengan nilai rata rata pada kolom dataset tersebut karena kalau kita hilangkan barisnya maka banyak data yang akan hilang"
      ],
      "metadata": {
        "id": "j6lJv3MswrK2"
      }
    },
    {
      "cell_type": "code",
      "source": [
        "chanping_df.PM25.fillna(value=chanping_df.PM25.mean(), inplace=True)\n",
        "print(\"Jumlah Kolom PM2.5 yang tidak ada nilainya : \", chanping_df.PM25.isna().sum())\n"
      ],
      "metadata": {
        "colab": {
          "base_uri": "https://localhost:8080/"
        },
        "id": "wyJ9H51iw7lR",
        "outputId": "21d0d74f-3e59-4ad7-c76e-cb5e4ec13085"
      },
      "execution_count": 29,
      "outputs": [
        {
          "output_type": "stream",
          "name": "stdout",
          "text": [
            "Jumlah Kolom PM2.5 yang tidak ada nilainya :  0\n"
          ]
        }
      ]
    },
    {
      "cell_type": "markdown",
      "source": [
        "- Sama dengan kolom PM10 kita ganti nilai yang kosong dengan nilai rata-rata"
      ],
      "metadata": {
        "id": "3SnCKX5Kx7qE"
      }
    },
    {
      "cell_type": "code",
      "source": [
        "chanping_df.PM10.fillna(value=chanping_df.PM10.mean(), inplace=True)\n",
        "print(\"Jumlah Kolom PM10 yang tidak ada nilainya : \", chanping_df.PM25.isna().sum())\n"
      ],
      "metadata": {
        "id": "WlEPKIMcx7qF"
      },
      "execution_count": null,
      "outputs": []
    },
    {
      "cell_type": "markdown",
      "source": [
        "Inaccurate value\n",
        "- pada cleaning ini kita tidak mengubah dikarenakan tidak ada batas maksimal ukuran pada polusi PM2.5 dan PM10"
      ],
      "metadata": {
        "id": "xFwsmD04yanO"
      }
    },
    {
      "cell_type": "code",
      "source": [
        "chanping_df.PM25.describe()"
      ],
      "metadata": {
        "id": "N9R4NKJQycKm"
      },
      "execution_count": null,
      "outputs": []
    },
    {
      "cell_type": "code",
      "source": [
        "chanping_df.PM10.describe()"
      ],
      "metadata": {
        "id": "DE-xJacPy1_6"
      },
      "execution_count": null,
      "outputs": []
    },
    {
      "cell_type": "markdown",
      "metadata": {
        "id": "ODOjz-saZbQ2"
      },
      "source": [
        "**Membersihkan tabel `dongsi_df`**"
      ]
    },
    {
      "cell_type": "markdown",
      "metadata": {
        "id": "UWQP4YPQz0Ts"
      },
      "source": [
        "Duplicate Data"
      ]
    },
    {
      "cell_type": "code",
      "source": [
        "print(\"Jumlah duplikasi: \", dongsi_df.duplicated().sum())"
      ],
      "metadata": {
        "id": "A-Z9-cyZz0T5"
      },
      "execution_count": null,
      "outputs": []
    },
    {
      "cell_type": "markdown",
      "metadata": {
        "id": "pap0Nd5uz0T6"
      },
      "source": [
        "Missing Value\n",
        "- Kita hanya mengedit value dari PM2.5 dan PM10 karena sesuai yang dibutuhkan pertanyaan bisnisnya"
      ]
    },
    {
      "cell_type": "code",
      "source": [
        "dongsi_df.isna().sum()\n"
      ],
      "metadata": {
        "id": "K4e38S2bz0T6"
      },
      "execution_count": null,
      "outputs": []
    },
    {
      "cell_type": "code",
      "source": [
        "dongsi_df[dongsi_df.PM25.isna()]\n"
      ],
      "metadata": {
        "id": "Jp0YZjcTz0T6"
      },
      "execution_count": null,
      "outputs": []
    },
    {
      "cell_type": "markdown",
      "source": [
        "- Kita mengganti PM2.5 dengan nilai rata rata pada kolom dataset tersebut karena kalau kita hilangkan barisnya maka banyak data yang akan hilang"
      ],
      "metadata": {
        "id": "Yg_ml2v2z0T6"
      }
    },
    {
      "cell_type": "code",
      "source": [
        "dongsi_df.PM25.fillna(value=dongsi_df.PM25.mean(), inplace=True)\n",
        "print(\"Jumlah Kolom PM2.5 yang tidak ada nilainya : \", dongsi_df.PM25.isna().sum())\n"
      ],
      "metadata": {
        "colab": {
          "base_uri": "https://localhost:8080/"
        },
        "outputId": "41d9fbb5-cc1a-40d1-bf89-fc0c68fec77b",
        "id": "3A5Ykaphz0T7"
      },
      "execution_count": 43,
      "outputs": [
        {
          "output_type": "stream",
          "name": "stdout",
          "text": [
            "Jumlah Kolom PM2.5 yang tidak ada nilainya :  0\n"
          ]
        }
      ]
    },
    {
      "cell_type": "markdown",
      "source": [
        "- Sama dengan kolom PM10 kita ganti nilai yang kosong dengan nilai rata-rata"
      ],
      "metadata": {
        "id": "18GgRyCez0T7"
      }
    },
    {
      "cell_type": "code",
      "source": [
        "dongsi_df.PM10.fillna(value=chanping_df.PM10.mean(), inplace=True)\n",
        "print(\"Jumlah Kolom PM10 yang tidak ada nilainya : \", dongsi_df.PM25.isna().sum())\n"
      ],
      "metadata": {
        "colab": {
          "base_uri": "https://localhost:8080/"
        },
        "id": "3G3rlg-2z0T8",
        "outputId": "735b75bd-f971-43de-9552-66aa62a054f5"
      },
      "execution_count": 44,
      "outputs": [
        {
          "output_type": "stream",
          "name": "stdout",
          "text": [
            "Jumlah Kolom PM10 yang tidak ada nilainya :  0\n"
          ]
        }
      ]
    },
    {
      "cell_type": "markdown",
      "source": [
        "Inaccurate value\n",
        "- pada cleaning ini kita tidak mengubah dikarenakan tidak ada batas maksimal ukuran pada polusi PM2.5 dan PM10"
      ],
      "metadata": {
        "id": "2ygsMlu_z0T8"
      }
    },
    {
      "cell_type": "code",
      "source": [
        "dongsi_df.PM25.describe()"
      ],
      "metadata": {
        "id": "SIHe4DJPz0T8"
      },
      "execution_count": null,
      "outputs": []
    },
    {
      "cell_type": "code",
      "source": [
        "dongsi_df.PM10.describe()"
      ],
      "metadata": {
        "id": "siISdFAbz0T9"
      },
      "execution_count": null,
      "outputs": []
    },
    {
      "cell_type": "markdown",
      "metadata": {
        "id": "gp-Y6wU38DC1"
      },
      "source": [
        "## Exploratory Data Analysis (EDA)"
      ]
    },
    {
      "cell_type": "markdown",
      "metadata": {
        "id": "MW7WF2kr8DC1"
      },
      "source": [
        "### Explore `chanping_df` dan `dongsi_df` (Pertanyaan 1)\n",
        "- disini kita akan melihat data polusi PM2.5 pada Kota Chanping dan Kota Dongsi berdasarkan bulan di tahun 2013-2017"
      ]
    },
    {
      "cell_type": "markdown",
      "source": [],
      "metadata": {
        "id": "0ZtmMFoCcVR6"
      }
    },
    {
      "cell_type": "markdown",
      "source": [],
      "metadata": {
        "id": "lq3JwGgBcVOV"
      }
    },
    {
      "cell_type": "code",
      "execution_count": null,
      "metadata": {
        "id": "e9CQCZjk8DC2"
      },
      "outputs": [],
      "source": [
        "chanping_df.groupby(by='month').agg({\n",
        "  'PM25':'mean'\n",
        "})"
      ]
    },
    {
      "cell_type": "code",
      "source": [
        "dongsi_df.groupby(by='month').agg({\n",
        "  'PM25':'mean'\n",
        "})"
      ],
      "metadata": {
        "id": "o2nSUo2d2ghp"
      },
      "execution_count": null,
      "outputs": []
    },
    {
      "cell_type": "markdown",
      "metadata": {
        "id": "hiu0bPcJ2xCC"
      },
      "source": [
        "### Explore `dongsi_df` (Pertanyaan 2)\n",
        "- disini kita akan melihat data polusi PM2.5 dan PM10 pada Kota Dongsi berdasarkan bulan di tahun 2013-2017"
      ]
    },
    {
      "cell_type": "code",
      "source": [
        "dongsi_df.groupby(by='month').agg({\n",
        "  'PM25':'mean',\n",
        "  'PM10':'mean'\n",
        "})"
      ],
      "metadata": {
        "id": "kMLtkhnQ2xCD"
      },
      "execution_count": null,
      "outputs": []
    },
    {
      "cell_type": "code",
      "source": [
        "korelasicek = pd.DataFrame({\n",
        "    'PM2.5': dongsi_df.PM25,\n",
        "    'PM10': dongsi_df.PM10\n",
        "})\n",
        "\n",
        "korelasicek.corr()"
      ],
      "metadata": {
        "colab": {
          "base_uri": "https://localhost:8080/",
          "height": 112
        },
        "id": "aJ4JvaGb3aSc",
        "outputId": "a1f67134-88a1-4544-88d3-d38b9b19d494"
      },
      "execution_count": 51,
      "outputs": [
        {
          "output_type": "execute_result",
          "data": {
            "text/plain": [
              "         PM2.5     PM10\n",
              "PM2.5  1.00000  0.88683\n",
              "PM10   0.88683  1.00000"
            ],
            "text/html": [
              "\n",
              "  <div id=\"df-d5202183-8509-4437-ab0b-20e70a996b46\" class=\"colab-df-container\">\n",
              "    <div>\n",
              "<style scoped>\n",
              "    .dataframe tbody tr th:only-of-type {\n",
              "        vertical-align: middle;\n",
              "    }\n",
              "\n",
              "    .dataframe tbody tr th {\n",
              "        vertical-align: top;\n",
              "    }\n",
              "\n",
              "    .dataframe thead th {\n",
              "        text-align: right;\n",
              "    }\n",
              "</style>\n",
              "<table border=\"1\" class=\"dataframe\">\n",
              "  <thead>\n",
              "    <tr style=\"text-align: right;\">\n",
              "      <th></th>\n",
              "      <th>PM2.5</th>\n",
              "      <th>PM10</th>\n",
              "    </tr>\n",
              "  </thead>\n",
              "  <tbody>\n",
              "    <tr>\n",
              "      <th>PM2.5</th>\n",
              "      <td>1.00000</td>\n",
              "      <td>0.88683</td>\n",
              "    </tr>\n",
              "    <tr>\n",
              "      <th>PM10</th>\n",
              "      <td>0.88683</td>\n",
              "      <td>1.00000</td>\n",
              "    </tr>\n",
              "  </tbody>\n",
              "</table>\n",
              "</div>\n",
              "    <div class=\"colab-df-buttons\">\n",
              "\n",
              "  <div class=\"colab-df-container\">\n",
              "    <button class=\"colab-df-convert\" onclick=\"convertToInteractive('df-d5202183-8509-4437-ab0b-20e70a996b46')\"\n",
              "            title=\"Convert this dataframe to an interactive table.\"\n",
              "            style=\"display:none;\">\n",
              "\n",
              "  <svg xmlns=\"http://www.w3.org/2000/svg\" height=\"24px\" viewBox=\"0 -960 960 960\">\n",
              "    <path d=\"M120-120v-720h720v720H120Zm60-500h600v-160H180v160Zm220 220h160v-160H400v160Zm0 220h160v-160H400v160ZM180-400h160v-160H180v160Zm440 0h160v-160H620v160ZM180-180h160v-160H180v160Zm440 0h160v-160H620v160Z\"/>\n",
              "  </svg>\n",
              "    </button>\n",
              "\n",
              "  <style>\n",
              "    .colab-df-container {\n",
              "      display:flex;\n",
              "      gap: 12px;\n",
              "    }\n",
              "\n",
              "    .colab-df-convert {\n",
              "      background-color: #E8F0FE;\n",
              "      border: none;\n",
              "      border-radius: 50%;\n",
              "      cursor: pointer;\n",
              "      display: none;\n",
              "      fill: #1967D2;\n",
              "      height: 32px;\n",
              "      padding: 0 0 0 0;\n",
              "      width: 32px;\n",
              "    }\n",
              "\n",
              "    .colab-df-convert:hover {\n",
              "      background-color: #E2EBFA;\n",
              "      box-shadow: 0px 1px 2px rgba(60, 64, 67, 0.3), 0px 1px 3px 1px rgba(60, 64, 67, 0.15);\n",
              "      fill: #174EA6;\n",
              "    }\n",
              "\n",
              "    .colab-df-buttons div {\n",
              "      margin-bottom: 4px;\n",
              "    }\n",
              "\n",
              "    [theme=dark] .colab-df-convert {\n",
              "      background-color: #3B4455;\n",
              "      fill: #D2E3FC;\n",
              "    }\n",
              "\n",
              "    [theme=dark] .colab-df-convert:hover {\n",
              "      background-color: #434B5C;\n",
              "      box-shadow: 0px 1px 3px 1px rgba(0, 0, 0, 0.15);\n",
              "      filter: drop-shadow(0px 1px 2px rgba(0, 0, 0, 0.3));\n",
              "      fill: #FFFFFF;\n",
              "    }\n",
              "  </style>\n",
              "\n",
              "    <script>\n",
              "      const buttonEl =\n",
              "        document.querySelector('#df-d5202183-8509-4437-ab0b-20e70a996b46 button.colab-df-convert');\n",
              "      buttonEl.style.display =\n",
              "        google.colab.kernel.accessAllowed ? 'block' : 'none';\n",
              "\n",
              "      async function convertToInteractive(key) {\n",
              "        const element = document.querySelector('#df-d5202183-8509-4437-ab0b-20e70a996b46');\n",
              "        const dataTable =\n",
              "          await google.colab.kernel.invokeFunction('convertToInteractive',\n",
              "                                                    [key], {});\n",
              "        if (!dataTable) return;\n",
              "\n",
              "        const docLinkHtml = 'Like what you see? Visit the ' +\n",
              "          '<a target=\"_blank\" href=https://colab.research.google.com/notebooks/data_table.ipynb>data table notebook</a>'\n",
              "          + ' to learn more about interactive tables.';\n",
              "        element.innerHTML = '';\n",
              "        dataTable['output_type'] = 'display_data';\n",
              "        await google.colab.output.renderOutput(dataTable, element);\n",
              "        const docLink = document.createElement('div');\n",
              "        docLink.innerHTML = docLinkHtml;\n",
              "        element.appendChild(docLink);\n",
              "      }\n",
              "    </script>\n",
              "  </div>\n",
              "\n",
              "\n",
              "<div id=\"df-f31bba65-a975-4fd1-a50b-46d9a426ba6d\">\n",
              "  <button class=\"colab-df-quickchart\" onclick=\"quickchart('df-f31bba65-a975-4fd1-a50b-46d9a426ba6d')\"\n",
              "            title=\"Suggest charts\"\n",
              "            style=\"display:none;\">\n",
              "\n",
              "<svg xmlns=\"http://www.w3.org/2000/svg\" height=\"24px\"viewBox=\"0 0 24 24\"\n",
              "     width=\"24px\">\n",
              "    <g>\n",
              "        <path d=\"M19 3H5c-1.1 0-2 .9-2 2v14c0 1.1.9 2 2 2h14c1.1 0 2-.9 2-2V5c0-1.1-.9-2-2-2zM9 17H7v-7h2v7zm4 0h-2V7h2v10zm4 0h-2v-4h2v4z\"/>\n",
              "    </g>\n",
              "</svg>\n",
              "  </button>\n",
              "\n",
              "<style>\n",
              "  .colab-df-quickchart {\n",
              "      --bg-color: #E8F0FE;\n",
              "      --fill-color: #1967D2;\n",
              "      --hover-bg-color: #E2EBFA;\n",
              "      --hover-fill-color: #174EA6;\n",
              "      --disabled-fill-color: #AAA;\n",
              "      --disabled-bg-color: #DDD;\n",
              "  }\n",
              "\n",
              "  [theme=dark] .colab-df-quickchart {\n",
              "      --bg-color: #3B4455;\n",
              "      --fill-color: #D2E3FC;\n",
              "      --hover-bg-color: #434B5C;\n",
              "      --hover-fill-color: #FFFFFF;\n",
              "      --disabled-bg-color: #3B4455;\n",
              "      --disabled-fill-color: #666;\n",
              "  }\n",
              "\n",
              "  .colab-df-quickchart {\n",
              "    background-color: var(--bg-color);\n",
              "    border: none;\n",
              "    border-radius: 50%;\n",
              "    cursor: pointer;\n",
              "    display: none;\n",
              "    fill: var(--fill-color);\n",
              "    height: 32px;\n",
              "    padding: 0;\n",
              "    width: 32px;\n",
              "  }\n",
              "\n",
              "  .colab-df-quickchart:hover {\n",
              "    background-color: var(--hover-bg-color);\n",
              "    box-shadow: 0 1px 2px rgba(60, 64, 67, 0.3), 0 1px 3px 1px rgba(60, 64, 67, 0.15);\n",
              "    fill: var(--button-hover-fill-color);\n",
              "  }\n",
              "\n",
              "  .colab-df-quickchart-complete:disabled,\n",
              "  .colab-df-quickchart-complete:disabled:hover {\n",
              "    background-color: var(--disabled-bg-color);\n",
              "    fill: var(--disabled-fill-color);\n",
              "    box-shadow: none;\n",
              "  }\n",
              "\n",
              "  .colab-df-spinner {\n",
              "    border: 2px solid var(--fill-color);\n",
              "    border-color: transparent;\n",
              "    border-bottom-color: var(--fill-color);\n",
              "    animation:\n",
              "      spin 1s steps(1) infinite;\n",
              "  }\n",
              "\n",
              "  @keyframes spin {\n",
              "    0% {\n",
              "      border-color: transparent;\n",
              "      border-bottom-color: var(--fill-color);\n",
              "      border-left-color: var(--fill-color);\n",
              "    }\n",
              "    20% {\n",
              "      border-color: transparent;\n",
              "      border-left-color: var(--fill-color);\n",
              "      border-top-color: var(--fill-color);\n",
              "    }\n",
              "    30% {\n",
              "      border-color: transparent;\n",
              "      border-left-color: var(--fill-color);\n",
              "      border-top-color: var(--fill-color);\n",
              "      border-right-color: var(--fill-color);\n",
              "    }\n",
              "    40% {\n",
              "      border-color: transparent;\n",
              "      border-right-color: var(--fill-color);\n",
              "      border-top-color: var(--fill-color);\n",
              "    }\n",
              "    60% {\n",
              "      border-color: transparent;\n",
              "      border-right-color: var(--fill-color);\n",
              "    }\n",
              "    80% {\n",
              "      border-color: transparent;\n",
              "      border-right-color: var(--fill-color);\n",
              "      border-bottom-color: var(--fill-color);\n",
              "    }\n",
              "    90% {\n",
              "      border-color: transparent;\n",
              "      border-bottom-color: var(--fill-color);\n",
              "    }\n",
              "  }\n",
              "</style>\n",
              "\n",
              "  <script>\n",
              "    async function quickchart(key) {\n",
              "      const quickchartButtonEl =\n",
              "        document.querySelector('#' + key + ' button');\n",
              "      quickchartButtonEl.disabled = true;  // To prevent multiple clicks.\n",
              "      quickchartButtonEl.classList.add('colab-df-spinner');\n",
              "      try {\n",
              "        const charts = await google.colab.kernel.invokeFunction(\n",
              "            'suggestCharts', [key], {});\n",
              "      } catch (error) {\n",
              "        console.error('Error during call to suggestCharts:', error);\n",
              "      }\n",
              "      quickchartButtonEl.classList.remove('colab-df-spinner');\n",
              "      quickchartButtonEl.classList.add('colab-df-quickchart-complete');\n",
              "    }\n",
              "    (() => {\n",
              "      let quickchartButtonEl =\n",
              "        document.querySelector('#df-f31bba65-a975-4fd1-a50b-46d9a426ba6d button');\n",
              "      quickchartButtonEl.style.display =\n",
              "        google.colab.kernel.accessAllowed ? 'block' : 'none';\n",
              "    })();\n",
              "  </script>\n",
              "</div>\n",
              "    </div>\n",
              "  </div>\n"
            ],
            "application/vnd.google.colaboratory.intrinsic+json": {
              "type": "dataframe",
              "summary": "{\n  \"name\": \"korelasicek\",\n  \"rows\": 2,\n  \"fields\": [\n    {\n      \"column\": \"PM2.5\",\n      \"properties\": {\n        \"dtype\": \"number\",\n        \"std\": 0.08002300789279239,\n        \"min\": 0.8868303769361238,\n        \"max\": 1.0,\n        \"num_unique_values\": 2,\n        \"samples\": [\n          0.8868303769361238,\n          1.0\n        ],\n        \"semantic_type\": \"\",\n        \"description\": \"\"\n      }\n    },\n    {\n      \"column\": \"PM10\",\n      \"properties\": {\n        \"dtype\": \"number\",\n        \"std\": 0.08002300789279239,\n        \"min\": 0.8868303769361238,\n        \"max\": 1.0,\n        \"num_unique_values\": 2,\n        \"samples\": [\n          1.0,\n          0.8868303769361238\n        ],\n        \"semantic_type\": \"\",\n        \"description\": \"\"\n      }\n    }\n  ]\n}"
            }
          },
          "metadata": {},
          "execution_count": 51
        }
      ]
    },
    {
      "cell_type": "markdown",
      "metadata": {
        "id": "zsyZjqak8DC2"
      },
      "source": [
        "## Visualization & Explanatory Analysis"
      ]
    },
    {
      "cell_type": "markdown",
      "metadata": {
        "id": "HZxOiQ6n8DC2"
      },
      "source": [
        "\n",
        "### Pertanyaan 1: Bagaimana kualitas udara antara kota Chanping dan Kota Dongsi berdasarkan PM2.5 per bulan pada tahun 2013-2017"
      ]
    },
    {
      "cell_type": "code",
      "execution_count": 163,
      "metadata": {
        "id": "1swJUdAD8DC2",
        "colab": {
          "base_uri": "https://localhost:8080/",
          "height": 491
        },
        "outputId": "d854c63d-9e8e-44f9-f57b-5958dec8fe91"
      },
      "outputs": [
        {
          "output_type": "display_data",
          "data": {
            "text/plain": [
              "<Figure size 1500x500 with 1 Axes>"
            ],
            "image/png": "[encoded data removed]"
          },
          "metadata": {}
        }
      ],
      "source": [
        "chan = chanping_df.groupby(by='month').agg({\n",
        "  'PM25':'mean'\n",
        "})\n",
        "\n",
        "dong = dongsi_df.groupby(by='month').agg({\n",
        "  'PM25':'mean'\n",
        "})\n",
        "\n",
        "\n",
        "merge_df = pd.merge(\n",
        "    left = chan,\n",
        "    right = dong,\n",
        "    how = \"outer\",\n",
        "    left_on = \"month\",\n",
        "    right_on = \"month\"\n",
        ")\n",
        "\n",
        "# merge_df.columns = merge_df.columns.str.replace('PM25_x', 'PM25 Kota Chanping')\n",
        "# merge_df.columns = merge_df.columns.str.replace('PM25_y', 'PM25 Kota Dongsi')\n",
        "\n",
        "merge_df['bulan'] = range(1, 1 + len(merge_df))\n",
        "\n",
        "merge_df.head()\n",
        "plt.figure(figsize=(15, 5))\n",
        "plt.plot(merge_df['bulan'], merge_df['PM25_x'], color='red', label='Kota Chanping')\n",
        "plt.plot(merge_df['bulan'], merge_df['PM25_y'], color='blue', label='Kota Dongsin')\n",
        "plt.xlabel('Bulan',size=12)\n",
        "plt.ylabel('PM2.5',size=12)\n",
        "plt.title('Kualitas Udara  Kota Chanping dan Kota Dongsi berdasarkan PM2.5 per bulan pada tahun 2013-2017')\n",
        "plt.legend(framealpha=1, frameon=True);"
      ]
    },
    {
      "cell_type": "markdown",
      "metadata": {
        "id": "DgHI7CiU8DC2"
      },
      "source": [
        "### Pertanyaan 2: Bagaimana hubungan polusi PM2.5 dengan PM10 di Kota Dongsi pada tahun 2013-2017"
      ]
    },
    {
      "cell_type": "code",
      "execution_count": 162,
      "metadata": {
        "id": "Go0lCsvO8DC2",
        "colab": {
          "base_uri": "https://localhost:8080/",
          "height": 476
        },
        "outputId": "d329b4fc-4e12-4683-8b9a-b1139cc56468"
      },
      "outputs": [
        {
          "output_type": "display_data",
          "data": {
            "text/plain": [
              "<Figure size 640x480 with 1 Axes>"
            ],
            "image/png": "[encoded data removed]"
          },
          "metadata": {}
        }
      ],
      "source": [
        "dongsi_pm25 = dongsi_df.groupby(by='month').agg({\n",
        "  'PM25':'mean'\n",
        "})\n",
        "\n",
        "dongsi_pm10 = dongsi_df.groupby(by='month').agg({\n",
        "  'PM10':'mean'\n",
        "})\n",
        "\n",
        "merge_df = pd.merge(\n",
        "    left = dongsi_pm25,\n",
        "    right = dongsi_pm10,\n",
        "    how = \"outer\",\n",
        "    left_on = \"month\",\n",
        "    right_on = \"month\"\n",
        ")\n",
        "\n",
        "merge_df['bulan'] = range(1, 1 + len(merge_df))\n",
        "\n",
        "plt.scatter(merge_df['PM25'],merge_df['PM10'],color='red', label='PM2.5')\n",
        "plt.scatter(merge_df['PM10'],merge_df['PM25'],color='blue', label='PM10')\n",
        "plt.title('Hubungan Polusi PM2.5 dengan PM10 di Kota Dongsi pada tahun 2013-2017')\n",
        "plt.xlabel('PM2.5',size=12)\n",
        "plt.ylabel('PM10',size=12)\n",
        "plt.legend(framealpha=1, frameon=True);"
      ]
    },
    {
      "cell_type": "markdown",
      "metadata": {
        "id": "_WeHlCeX8DC2"
      },
      "source": [
        "## Conclusion"
      ]
    },
    {
      "cell_type": "markdown",
      "metadata": {
        "id": "ZTcyR48Y8DC2"
      },
      "source": [
        "## Konklusi pertanyaan 1\n",
        "  Bagaimana kualitas udara antara kota Chanping dan Kota Dongsi berdasarkan PM2.5 per bulan pada tahun 2013-2017\n",
        "  - Kualitas udara Kota Dongsin lebih buruk dibandingkan Kota Chanping\n",
        "  - Setiap awal tahun (januari dan februari) dan akhir tahun (oktober - desember) mengalami peningkatan signifikan diantara bulan lainnya\n",
        "### Saran : Warga Kota Chanping dan Kota Dongsi diharap untuk menggunakan masker pada waktu awal bulan dan akhir bulan serta untuk menanggulangi polusi diharap warga menggunakan kendaraan tidak bermotor apabila keperluannya tidak mendesak"
      ]
    },
    {
      "cell_type": "markdown",
      "metadata": {
        "id": "kebmR_yzs92T"
      },
      "source": [
        "## Konklusi pertanyaan 2\n",
        "  Bagaimana hubungan polusi PM2.5 dengan PM10 di Kota Dongsi pada tahun 2013-2017\n",
        "  - hubungan antar polusi PM2.5 dan PM10 yaitu linier semakin tinggi polusi PM10 maka semakin tinggi juga tingkat polusi PM2.5 dibuktikan juga pada bagian exploretory tingkat korelasi menunjukkan 0.8 yaitu berhubungan kuat dan linier\n",
        "### Saran : Untuk pemerintahan kota membuat regulasi bagaimana supaya tingkat polusi menurun"
      ]
    }
  ],
  "metadata": {
    "kernelspec": {
      "display_name": "Python 3",
      "language": "python",
      "name": "python3"
    },
    "language_info": {
      "name": "python",
      "version": "3.8.0 (tags/v3.8.0:fa919fd, Oct 14 2019, 19:21:23) [MSC v.1916 32 bit (Intel)]"
    },
    "orig_nbformat": 4,
    "vscode": {
      "interpreter": {
        "hash": "972b3bf27e332e87b5379f2791f6ef9dfc79c71018c370b0d7423235e20fe4d7"
      }
    },
    "colab": {
      "provenance": []
    }
  },
  "nbformat": 4,
  "nbformat_minor": 0
}